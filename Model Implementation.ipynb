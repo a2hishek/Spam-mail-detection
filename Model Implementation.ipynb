{
 "cells": [
  {
   "cell_type": "code",
   "execution_count": 1,
   "id": "b731b6b3",
   "metadata": {},
   "outputs": [],
   "source": [
    "import numpy as np\n",
    "import pandas as pd\n",
    "import pickle "
   ]
  },
  {
   "cell_type": "markdown",
   "id": "fb1ab384",
   "metadata": {},
   "source": [
    "Loading Saved Model"
   ]
  },
  {
   "cell_type": "code",
   "execution_count": 2,
   "id": "a79ca0ca",
   "metadata": {},
   "outputs": [],
   "source": [
    "Spam_Filter = pickle.load(open(r'C:\\Users\\Abhishek Rathore\\Desktop\\ML Project\\Spam_Filtration.sav', 'rb'))\n",
    "Ft_Extract = pickle.load(open(r'C:\\Users\\Abhishek Rathore\\Desktop\\ML Project\\FtExtractor.sav', 'rb'))"
   ]
  },
  {
   "cell_type": "code",
   "execution_count": 4,
   "id": "f029d4a8",
   "metadata": {},
   "outputs": [
    {
     "name": "stdout",
     "output_type": "stream",
     "text": [
      "Prediction:  [1]\n",
      "Spam Mail!\n"
     ]
    }
   ],
   "source": [
    "input_mail = [\"SIX chances to win CASH! From 100 to 20,000 pounds txt> CSH11 and send to 87575. Cost 150p/day, 6days, 16+ TsandCs apply Reply HL 4 info\"]\n",
    "\n",
    "#converting to feature vectors\n",
    "\n",
    "input_features = Ft_Extract.transform(input_mail)\n",
    "\n",
    "#making Prediction\n",
    "\n",
    "prediction = Spam_Filter.predict(input_features)\n",
    "print('Prediction: ', prediction)\n",
    "\n",
    "if prediction[0]==0:\n",
    "    print(\"Ham Mail!\")\n",
    "else:\n",
    "    print(\"Spam Mail!\")"
   ]
  },
  {
   "cell_type": "code",
   "execution_count": null,
   "id": "5781c85c",
   "metadata": {},
   "outputs": [],
   "source": []
  }
 ],
 "metadata": {
  "kernelspec": {
   "display_name": "Python 3 (ipykernel)",
   "language": "python",
   "name": "python3"
  },
  "language_info": {
   "codemirror_mode": {
    "name": "ipython",
    "version": 3
   },
   "file_extension": ".py",
   "mimetype": "text/x-python",
   "name": "python",
   "nbconvert_exporter": "python",
   "pygments_lexer": "ipython3",
   "version": "3.10.7"
  }
 },
 "nbformat": 4,
 "nbformat_minor": 5
}
