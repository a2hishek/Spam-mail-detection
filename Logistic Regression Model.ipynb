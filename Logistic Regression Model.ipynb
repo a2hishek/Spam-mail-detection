{
 "cells": [
  {
   "cell_type": "code",
   "execution_count": 1,
   "id": "c13e050d",
   "metadata": {},
   "outputs": [],
   "source": [
    "import numpy as np\n",
    "import pandas as pd"
   ]
  },
  {
   "cell_type": "markdown",
   "id": "b21471f5",
   "metadata": {},
   "source": [
    "### Data Collection & Pre-Processing"
   ]
  },
  {
   "cell_type": "code",
   "execution_count": 3,
   "id": "0c3bb026",
   "metadata": {},
   "outputs": [],
   "source": [
    "#Loading Data\n",
    "raw_data = pd.read_csv(r\"C:\\Users\\Abhishek Rathore\\Desktop\\ML Project\\mail_data.csv\")"
   ]
  },
  {
   "cell_type": "code",
   "execution_count": 4,
   "id": "13df0b6c",
   "metadata": {},
   "outputs": [
    {
     "data": {
      "text/html": [
       "<div>\n",
       "<style scoped>\n",
       "    .dataframe tbody tr th:only-of-type {\n",
       "        vertical-align: middle;\n",
       "    }\n",
       "\n",
       "    .dataframe tbody tr th {\n",
       "        vertical-align: top;\n",
       "    }\n",
       "\n",
       "    .dataframe thead th {\n",
       "        text-align: right;\n",
       "    }\n",
       "</style>\n",
       "<table border=\"1\" class=\"dataframe\">\n",
       "  <thead>\n",
       "    <tr style=\"text-align: right;\">\n",
       "      <th></th>\n",
       "      <th>Category</th>\n",
       "      <th>Message</th>\n",
       "    </tr>\n",
       "  </thead>\n",
       "  <tbody>\n",
       "    <tr>\n",
       "      <th>0</th>\n",
       "      <td>ham</td>\n",
       "      <td>Go until jurong point, crazy.. Available only ...</td>\n",
       "    </tr>\n",
       "    <tr>\n",
       "      <th>1</th>\n",
       "      <td>ham</td>\n",
       "      <td>Ok lar... Joking wif u oni...</td>\n",
       "    </tr>\n",
       "    <tr>\n",
       "      <th>2</th>\n",
       "      <td>spam</td>\n",
       "      <td>Free entry in 2 a wkly comp to win FA Cup fina...</td>\n",
       "    </tr>\n",
       "    <tr>\n",
       "      <th>3</th>\n",
       "      <td>ham</td>\n",
       "      <td>U dun say so early hor... U c already then say...</td>\n",
       "    </tr>\n",
       "    <tr>\n",
       "      <th>4</th>\n",
       "      <td>ham</td>\n",
       "      <td>Nah I don't think he goes to usf, he lives aro...</td>\n",
       "    </tr>\n",
       "    <tr>\n",
       "      <th>...</th>\n",
       "      <td>...</td>\n",
       "      <td>...</td>\n",
       "    </tr>\n",
       "    <tr>\n",
       "      <th>5567</th>\n",
       "      <td>spam</td>\n",
       "      <td>This is the 2nd time we have tried 2 contact u...</td>\n",
       "    </tr>\n",
       "    <tr>\n",
       "      <th>5568</th>\n",
       "      <td>ham</td>\n",
       "      <td>Will ü b going to esplanade fr home?</td>\n",
       "    </tr>\n",
       "    <tr>\n",
       "      <th>5569</th>\n",
       "      <td>ham</td>\n",
       "      <td>Pity, * was in mood for that. So...any other s...</td>\n",
       "    </tr>\n",
       "    <tr>\n",
       "      <th>5570</th>\n",
       "      <td>ham</td>\n",
       "      <td>The guy did some bitching but I acted like i'd...</td>\n",
       "    </tr>\n",
       "    <tr>\n",
       "      <th>5571</th>\n",
       "      <td>ham</td>\n",
       "      <td>Rofl. Its true to its name</td>\n",
       "    </tr>\n",
       "  </tbody>\n",
       "</table>\n",
       "<p>5572 rows × 2 columns</p>\n",
       "</div>"
      ],
      "text/plain": [
       "     Category                                            Message\n",
       "0         ham  Go until jurong point, crazy.. Available only ...\n",
       "1         ham                      Ok lar... Joking wif u oni...\n",
       "2        spam  Free entry in 2 a wkly comp to win FA Cup fina...\n",
       "3         ham  U dun say so early hor... U c already then say...\n",
       "4         ham  Nah I don't think he goes to usf, he lives aro...\n",
       "...       ...                                                ...\n",
       "5567     spam  This is the 2nd time we have tried 2 contact u...\n",
       "5568      ham               Will ü b going to esplanade fr home?\n",
       "5569      ham  Pity, * was in mood for that. So...any other s...\n",
       "5570      ham  The guy did some bitching but I acted like i'd...\n",
       "5571      ham                         Rofl. Its true to its name\n",
       "\n",
       "[5572 rows x 2 columns]"
      ]
     },
     "execution_count": 4,
     "metadata": {},
     "output_type": "execute_result"
    }
   ],
   "source": [
    "raw_data"
   ]
  },
  {
   "cell_type": "code",
   "execution_count": 5,
   "id": "390a9406",
   "metadata": {},
   "outputs": [
    {
     "name": "stdout",
     "output_type": "stream",
     "text": [
      "<class 'pandas.core.frame.DataFrame'>\n",
      "RangeIndex: 5572 entries, 0 to 5571\n",
      "Data columns (total 2 columns):\n",
      " #   Column    Non-Null Count  Dtype \n",
      "---  ------    --------------  ----- \n",
      " 0   Category  5572 non-null   object\n",
      " 1   Message   5572 non-null   object\n",
      "dtypes: object(2)\n",
      "memory usage: 87.2+ KB\n"
     ]
    }
   ],
   "source": [
    "raw_data.info()"
   ]
  },
  {
   "cell_type": "code",
   "execution_count": 6,
   "id": "123dee53",
   "metadata": {},
   "outputs": [
    {
     "data": {
      "text/plain": [
       "(5572, 2)"
      ]
     },
     "execution_count": 6,
     "metadata": {},
     "output_type": "execute_result"
    }
   ],
   "source": [
    "raw_data.shape"
   ]
  },
  {
   "cell_type": "markdown",
   "id": "4feca3ef",
   "metadata": {},
   "source": [
    "Label Encoding"
   ]
  },
  {
   "cell_type": "code",
   "execution_count": 7,
   "id": "8bb3d38a",
   "metadata": {},
   "outputs": [],
   "source": [
    "from sklearn.preprocessing import LabelEncoder\n",
    "lbEncoder = LabelEncoder()\n",
    "\n",
    "raw_data['Category'] = lbEncoder.fit_transform(raw_data['Category'])"
   ]
  },
  {
   "cell_type": "code",
   "execution_count": 8,
   "id": "06f09676",
   "metadata": {},
   "outputs": [
    {
     "data": {
      "text/html": [
       "<div>\n",
       "<style scoped>\n",
       "    .dataframe tbody tr th:only-of-type {\n",
       "        vertical-align: middle;\n",
       "    }\n",
       "\n",
       "    .dataframe tbody tr th {\n",
       "        vertical-align: top;\n",
       "    }\n",
       "\n",
       "    .dataframe thead th {\n",
       "        text-align: right;\n",
       "    }\n",
       "</style>\n",
       "<table border=\"1\" class=\"dataframe\">\n",
       "  <thead>\n",
       "    <tr style=\"text-align: right;\">\n",
       "      <th></th>\n",
       "      <th>Category</th>\n",
       "      <th>Message</th>\n",
       "    </tr>\n",
       "  </thead>\n",
       "  <tbody>\n",
       "    <tr>\n",
       "      <th>0</th>\n",
       "      <td>0</td>\n",
       "      <td>Go until jurong point, crazy.. Available only ...</td>\n",
       "    </tr>\n",
       "    <tr>\n",
       "      <th>1</th>\n",
       "      <td>0</td>\n",
       "      <td>Ok lar... Joking wif u oni...</td>\n",
       "    </tr>\n",
       "    <tr>\n",
       "      <th>2</th>\n",
       "      <td>1</td>\n",
       "      <td>Free entry in 2 a wkly comp to win FA Cup fina...</td>\n",
       "    </tr>\n",
       "    <tr>\n",
       "      <th>3</th>\n",
       "      <td>0</td>\n",
       "      <td>U dun say so early hor... U c already then say...</td>\n",
       "    </tr>\n",
       "    <tr>\n",
       "      <th>4</th>\n",
       "      <td>0</td>\n",
       "      <td>Nah I don't think he goes to usf, he lives aro...</td>\n",
       "    </tr>\n",
       "    <tr>\n",
       "      <th>...</th>\n",
       "      <td>...</td>\n",
       "      <td>...</td>\n",
       "    </tr>\n",
       "    <tr>\n",
       "      <th>5567</th>\n",
       "      <td>1</td>\n",
       "      <td>This is the 2nd time we have tried 2 contact u...</td>\n",
       "    </tr>\n",
       "    <tr>\n",
       "      <th>5568</th>\n",
       "      <td>0</td>\n",
       "      <td>Will ü b going to esplanade fr home?</td>\n",
       "    </tr>\n",
       "    <tr>\n",
       "      <th>5569</th>\n",
       "      <td>0</td>\n",
       "      <td>Pity, * was in mood for that. So...any other s...</td>\n",
       "    </tr>\n",
       "    <tr>\n",
       "      <th>5570</th>\n",
       "      <td>0</td>\n",
       "      <td>The guy did some bitching but I acted like i'd...</td>\n",
       "    </tr>\n",
       "    <tr>\n",
       "      <th>5571</th>\n",
       "      <td>0</td>\n",
       "      <td>Rofl. Its true to its name</td>\n",
       "    </tr>\n",
       "  </tbody>\n",
       "</table>\n",
       "<p>5572 rows × 2 columns</p>\n",
       "</div>"
      ],
      "text/plain": [
       "      Category                                            Message\n",
       "0            0  Go until jurong point, crazy.. Available only ...\n",
       "1            0                      Ok lar... Joking wif u oni...\n",
       "2            1  Free entry in 2 a wkly comp to win FA Cup fina...\n",
       "3            0  U dun say so early hor... U c already then say...\n",
       "4            0  Nah I don't think he goes to usf, he lives aro...\n",
       "...        ...                                                ...\n",
       "5567         1  This is the 2nd time we have tried 2 contact u...\n",
       "5568         0               Will ü b going to esplanade fr home?\n",
       "5569         0  Pity, * was in mood for that. So...any other s...\n",
       "5570         0  The guy did some bitching but I acted like i'd...\n",
       "5571         0                         Rofl. Its true to its name\n",
       "\n",
       "[5572 rows x 2 columns]"
      ]
     },
     "execution_count": 8,
     "metadata": {},
     "output_type": "execute_result"
    }
   ],
   "source": [
    "raw_data"
   ]
  },
  {
   "cell_type": "markdown",
   "id": "6f227c9c",
   "metadata": {},
   "source": [
    "Making Input and Output Data Columns"
   ]
  },
  {
   "cell_type": "code",
   "execution_count": 9,
   "id": "8b51b45c",
   "metadata": {},
   "outputs": [],
   "source": [
    "x = raw_data['Message']\n",
    "y = raw_data['Category']"
   ]
  },
  {
   "cell_type": "code",
   "execution_count": 10,
   "id": "205da3f3",
   "metadata": {},
   "outputs": [
    {
     "data": {
      "text/plain": [
       "(5572,)"
      ]
     },
     "execution_count": 10,
     "metadata": {},
     "output_type": "execute_result"
    }
   ],
   "source": [
    "x.shape"
   ]
  },
  {
   "cell_type": "code",
   "execution_count": 11,
   "id": "4a55f12a",
   "metadata": {},
   "outputs": [
    {
     "data": {
      "text/plain": [
       "(5572,)"
      ]
     },
     "execution_count": 11,
     "metadata": {},
     "output_type": "execute_result"
    }
   ],
   "source": [
    "y.shape"
   ]
  },
  {
   "cell_type": "code",
   "execution_count": 12,
   "id": "10483a41",
   "metadata": {},
   "outputs": [
    {
     "data": {
      "text/plain": [
       "0       Go until jurong point, crazy.. Available only ...\n",
       "1                           Ok lar... Joking wif u oni...\n",
       "2       Free entry in 2 a wkly comp to win FA Cup fina...\n",
       "3       U dun say so early hor... U c already then say...\n",
       "4       Nah I don't think he goes to usf, he lives aro...\n",
       "                              ...                        \n",
       "5567    This is the 2nd time we have tried 2 contact u...\n",
       "5568                 Will ü b going to esplanade fr home?\n",
       "5569    Pity, * was in mood for that. So...any other s...\n",
       "5570    The guy did some bitching but I acted like i'd...\n",
       "5571                           Rofl. Its true to its name\n",
       "Name: Message, Length: 5572, dtype: object"
      ]
     },
     "execution_count": 12,
     "metadata": {},
     "output_type": "execute_result"
    }
   ],
   "source": [
    "x"
   ]
  },
  {
   "cell_type": "code",
   "execution_count": 13,
   "id": "cba73c52",
   "metadata": {},
   "outputs": [
    {
     "data": {
      "text/plain": [
       "0       0\n",
       "1       0\n",
       "2       1\n",
       "3       0\n",
       "4       0\n",
       "       ..\n",
       "5567    1\n",
       "5568    0\n",
       "5569    0\n",
       "5570    0\n",
       "5571    0\n",
       "Name: Category, Length: 5572, dtype: int32"
      ]
     },
     "execution_count": 13,
     "metadata": {},
     "output_type": "execute_result"
    }
   ],
   "source": [
    "y"
   ]
  },
  {
   "cell_type": "markdown",
   "id": "1f13beae",
   "metadata": {},
   "source": [
    "Splitting Training and Test dataset"
   ]
  },
  {
   "cell_type": "code",
   "execution_count": 14,
   "id": "75a04737",
   "metadata": {},
   "outputs": [],
   "source": [
    "from sklearn.model_selection import train_test_split"
   ]
  },
  {
   "cell_type": "code",
   "execution_count": 43,
   "id": "a0e5720b",
   "metadata": {},
   "outputs": [],
   "source": [
    "x_trn, x_test, y_trn, y_test = train_test_split(x, y, test_size=0.1, random_state=22)"
   ]
  },
  {
   "cell_type": "code",
   "execution_count": 44,
   "id": "4508a406",
   "metadata": {},
   "outputs": [
    {
     "name": "stdout",
     "output_type": "stream",
     "text": [
      "(5572,)\n",
      "(5014,)\n",
      "(558,)\n"
     ]
    }
   ],
   "source": [
    "print(x.shape)\n",
    "print(x_trn.shape)\n",
    "print(x_test.shape)"
   ]
  },
  {
   "cell_type": "code",
   "execution_count": 45,
   "id": "87a9b129",
   "metadata": {},
   "outputs": [
    {
     "name": "stdout",
     "output_type": "stream",
     "text": [
      "(5572,)\n",
      "(5014,)\n",
      "(558,)\n"
     ]
    }
   ],
   "source": [
    "print(y.shape)\n",
    "print(y_trn.shape)\n",
    "print(y_test.shape)"
   ]
  },
  {
   "cell_type": "markdown",
   "id": "af6ea30a",
   "metadata": {},
   "source": [
    "Feature Extraction"
   ]
  },
  {
   "cell_type": "code",
   "execution_count": 46,
   "id": "5b601381",
   "metadata": {},
   "outputs": [],
   "source": [
    "from sklearn.feature_extraction.text import TfidfVectorizer"
   ]
  },
  {
   "cell_type": "code",
   "execution_count": 47,
   "id": "6c3075c6",
   "metadata": {},
   "outputs": [],
   "source": [
    "#transform text data into numerical feature vectors\n",
    "Ft_Extract = TfidfVectorizer(min_df = 1, stop_words = 'english', lowercase = True)"
   ]
  },
  {
   "cell_type": "code",
   "execution_count": 48,
   "id": "d6e93dce",
   "metadata": {},
   "outputs": [],
   "source": [
    "x_trn_features = Ft_Extract.fit_transform(x_trn)\n",
    "x_test_features = Ft_Extract.transform(x_test)\n",
    "\n",
    "#convert y data into integer type\n",
    "y_trn = y_trn.astype('int')\n",
    "y_test = y_test.astype('int')      "
   ]
  },
  {
   "cell_type": "code",
   "execution_count": 49,
   "id": "905ad5e4",
   "metadata": {},
   "outputs": [
    {
     "name": "stdout",
     "output_type": "stream",
     "text": [
      "  (0, 4058)\t0.5229100666631653\n",
      "  (0, 3893)\t0.48184833181355796\n",
      "  (0, 4527)\t0.48184833181355796\n",
      "  (0, 3200)\t0.3865059360414387\n",
      "  (0, 5346)\t0.3358907468865998\n",
      "  (1, 6471)\t0.5040400770069187\n",
      "  (1, 5051)\t0.3265907654777156\n",
      "  (1, 6267)\t0.27500913284740114\n",
      "  (1, 5466)\t0.31190275851693006\n",
      "  (1, 1588)\t0.422424309880243\n",
      "  (1, 3241)\t0.5365877572008048\n",
      "  (2, 4124)\t0.25956585763799667\n",
      "  (2, 2392)\t0.3511937888690559\n",
      "  (2, 6516)\t0.2524807843048989\n",
      "  (2, 4426)\t0.27885803045099256\n",
      "  (2, 5628)\t0.3391969664127109\n",
      "  (2, 5548)\t0.3158600542637824\n",
      "  (2, 3389)\t0.29338300079718127\n",
      "  (2, 6430)\t0.3158600542637824\n",
      "  (2, 4137)\t0.17151966904248508\n",
      "  (2, 7028)\t0.3391969664127109\n",
      "  (2, 2525)\t0.1912319576588942\n",
      "  (2, 2134)\t0.29338300079718127\n",
      "  (3, 1323)\t0.24500376413747926\n",
      "  (3, 7610)\t0.24500376413747926\n",
      "  :\t:\n",
      "  (5011, 1684)\t0.1822717257564065\n",
      "  (5011, 4007)\t0.20761221740403993\n",
      "  (5011, 5366)\t0.16462248546865843\n",
      "  (5011, 2982)\t0.16075045370813146\n",
      "  (5011, 7091)\t0.1786475417140692\n",
      "  (5011, 3079)\t0.17254895243237606\n",
      "  (5011, 967)\t0.22427646576169333\n",
      "  (5011, 3852)\t0.23060277389447142\n",
      "  (5011, 3484)\t0.14531904499876241\n",
      "  (5011, 6180)\t0.14567123393200124\n",
      "  (5011, 4622)\t0.15027878283653767\n",
      "  (5012, 6627)\t1.0\n",
      "  (5013, 1035)\t0.29173477891483063\n",
      "  (5013, 362)\t0.29173477891483063\n",
      "  (5013, 7914)\t0.27833410855366875\n",
      "  (5013, 6561)\t0.27833410855366875\n",
      "  (5013, 1570)\t0.2554255112595836\n",
      "  (5013, 1750)\t0.261451260537319\n",
      "  (5013, 6811)\t0.261451260537319\n",
      "  (5013, 1030)\t0.21563406594914877\n",
      "  (5013, 3405)\t0.4100555094191304\n",
      "  (5013, 4440)\t0.4096017312397455\n",
      "  (5013, 5758)\t0.21563406594914877\n",
      "  (5013, 7042)\t0.15725295758448965\n",
      "  (5013, 3340)\t0.13871725918140496\n"
     ]
    }
   ],
   "source": [
    "print(x_trn_features)"
   ]
  },
  {
   "cell_type": "code",
   "execution_count": 50,
   "id": "6a02404d",
   "metadata": {},
   "outputs": [
    {
     "name": "stdout",
     "output_type": "stream",
     "text": [
      "  (0, 7491)\t0.3504747072325481\n",
      "  (0, 5834)\t0.357997480440075\n",
      "  (0, 4802)\t0.5371871721732068\n",
      "  (0, 4279)\t0.5371871721732068\n",
      "  (0, 2583)\t0.41456624041752943\n",
      "  (1, 7679)\t0.5412334556363766\n",
      "  (1, 7653)\t0.4987598520040242\n",
      "  (1, 5474)\t0.5784296622710628\n",
      "  (1, 5112)\t0.3517443422911225\n",
      "  (2, 7219)\t0.3065292319086262\n",
      "  (2, 5920)\t0.5479276245636612\n",
      "  (2, 5169)\t0.5673068970269033\n",
      "  (2, 3922)\t0.5328958930328117\n",
      "  (3, 7936)\t0.3661756466260414\n",
      "  (3, 7690)\t0.5009680896265076\n",
      "  (3, 7228)\t0.36483907426308876\n",
      "  (3, 4588)\t0.5127864396783454\n",
      "  (3, 1141)\t0.46785562534485664\n",
      "  (4, 6277)\t0.2640084069493021\n",
      "  (4, 5466)\t0.23818932411579388\n",
      "  (4, 5436)\t0.27097134668744766\n",
      "  (4, 5051)\t0.24940604585058318\n",
      "  (4, 4268)\t0.25650780900086145\n",
      "  (4, 4137)\t0.20012942124971023\n",
      "  (4, 3510)\t0.3085928900756309\n",
      "  :\t:\n",
      "  (551, 898)\t0.3860161082247805\n",
      "  (552, 6056)\t0.8666859326179502\n",
      "  (552, 3578)\t0.4988541813016644\n",
      "  (553, 7086)\t0.4230267092767977\n",
      "  (553, 3554)\t0.3754177753394655\n",
      "  (553, 3303)\t0.39598178293510083\n",
      "  (553, 1686)\t0.42030384160497103\n",
      "  (553, 1406)\t0.5887724564831921\n",
      "  (554, 3622)\t1.0\n",
      "  (555, 7091)\t0.5718324826534297\n",
      "  (555, 4770)\t0.6645454427654522\n",
      "  (555, 4622)\t0.4810269912199149\n",
      "  (556, 7721)\t0.32523692347172223\n",
      "  (556, 6380)\t0.549164634279611\n",
      "  (556, 6035)\t0.40351377326675547\n",
      "  (556, 5864)\t0.5304051037139592\n",
      "  (556, 2722)\t0.38533908289375424\n",
      "  (557, 7660)\t0.32607181386359424\n",
      "  (557, 6356)\t0.31016051160601166\n",
      "  (557, 6180)\t0.2658826593426045\n",
      "  (557, 4107)\t0.45676980278194995\n",
      "  (557, 4046)\t0.19255424404826163\n",
      "  (557, 3628)\t0.45676980278194995\n",
      "  (557, 3430)\t0.3086605037640891\n",
      "  (557, 1609)\t0.4209017602161879\n"
     ]
    }
   ],
   "source": [
    "print(x_test_features)"
   ]
  },
  {
   "cell_type": "markdown",
   "id": "7f7c9b50",
   "metadata": {},
   "source": [
    "Training the Model"
   ]
  },
  {
   "cell_type": "markdown",
   "id": "9ef75b79",
   "metadata": {},
   "source": [
    "### Logistic Regression"
   ]
  },
  {
   "cell_type": "code",
   "execution_count": 51,
   "id": "98385505",
   "metadata": {},
   "outputs": [],
   "source": [
    "from sklearn.linear_model import LogisticRegression"
   ]
  },
  {
   "cell_type": "code",
   "execution_count": 52,
   "id": "727286ec",
   "metadata": {},
   "outputs": [],
   "source": [
    "model = LogisticRegression()"
   ]
  },
  {
   "cell_type": "code",
   "execution_count": 53,
   "id": "c8e186df",
   "metadata": {},
   "outputs": [
    {
     "data": {
      "text/html": [
       "<style>#sk-container-id-3 {color: black;}#sk-container-id-3 pre{padding: 0;}#sk-container-id-3 div.sk-toggleable {background-color: white;}#sk-container-id-3 label.sk-toggleable__label {cursor: pointer;display: block;width: 100%;margin-bottom: 0;padding: 0.3em;box-sizing: border-box;text-align: center;}#sk-container-id-3 label.sk-toggleable__label-arrow:before {content: \"▸\";float: left;margin-right: 0.25em;color: #696969;}#sk-container-id-3 label.sk-toggleable__label-arrow:hover:before {color: black;}#sk-container-id-3 div.sk-estimator:hover label.sk-toggleable__label-arrow:before {color: black;}#sk-container-id-3 div.sk-toggleable__content {max-height: 0;max-width: 0;overflow: hidden;text-align: left;background-color: #f0f8ff;}#sk-container-id-3 div.sk-toggleable__content pre {margin: 0.2em;color: black;border-radius: 0.25em;background-color: #f0f8ff;}#sk-container-id-3 input.sk-toggleable__control:checked~div.sk-toggleable__content {max-height: 200px;max-width: 100%;overflow: auto;}#sk-container-id-3 input.sk-toggleable__control:checked~label.sk-toggleable__label-arrow:before {content: \"▾\";}#sk-container-id-3 div.sk-estimator input.sk-toggleable__control:checked~label.sk-toggleable__label {background-color: #d4ebff;}#sk-container-id-3 div.sk-label input.sk-toggleable__control:checked~label.sk-toggleable__label {background-color: #d4ebff;}#sk-container-id-3 input.sk-hidden--visually {border: 0;clip: rect(1px 1px 1px 1px);clip: rect(1px, 1px, 1px, 1px);height: 1px;margin: -1px;overflow: hidden;padding: 0;position: absolute;width: 1px;}#sk-container-id-3 div.sk-estimator {font-family: monospace;background-color: #f0f8ff;border: 1px dotted black;border-radius: 0.25em;box-sizing: border-box;margin-bottom: 0.5em;}#sk-container-id-3 div.sk-estimator:hover {background-color: #d4ebff;}#sk-container-id-3 div.sk-parallel-item::after {content: \"\";width: 100%;border-bottom: 1px solid gray;flex-grow: 1;}#sk-container-id-3 div.sk-label:hover label.sk-toggleable__label {background-color: #d4ebff;}#sk-container-id-3 div.sk-serial::before {content: \"\";position: absolute;border-left: 1px solid gray;box-sizing: border-box;top: 0;bottom: 0;left: 50%;z-index: 0;}#sk-container-id-3 div.sk-serial {display: flex;flex-direction: column;align-items: center;background-color: white;padding-right: 0.2em;padding-left: 0.2em;position: relative;}#sk-container-id-3 div.sk-item {position: relative;z-index: 1;}#sk-container-id-3 div.sk-parallel {display: flex;align-items: stretch;justify-content: center;background-color: white;position: relative;}#sk-container-id-3 div.sk-item::before, #sk-container-id-3 div.sk-parallel-item::before {content: \"\";position: absolute;border-left: 1px solid gray;box-sizing: border-box;top: 0;bottom: 0;left: 50%;z-index: -1;}#sk-container-id-3 div.sk-parallel-item {display: flex;flex-direction: column;z-index: 1;position: relative;background-color: white;}#sk-container-id-3 div.sk-parallel-item:first-child::after {align-self: flex-end;width: 50%;}#sk-container-id-3 div.sk-parallel-item:last-child::after {align-self: flex-start;width: 50%;}#sk-container-id-3 div.sk-parallel-item:only-child::after {width: 0;}#sk-container-id-3 div.sk-dashed-wrapped {border: 1px dashed gray;margin: 0 0.4em 0.5em 0.4em;box-sizing: border-box;padding-bottom: 0.4em;background-color: white;}#sk-container-id-3 div.sk-label label {font-family: monospace;font-weight: bold;display: inline-block;line-height: 1.2em;}#sk-container-id-3 div.sk-label-container {text-align: center;}#sk-container-id-3 div.sk-container {/* jupyter's `normalize.less` sets `[hidden] { display: none; }` but bootstrap.min.css set `[hidden] { display: none !important; }` so we also need the `!important` here to be able to override the default hidden behavior on the sphinx rendered scikit-learn.org. See: https://github.com/scikit-learn/scikit-learn/issues/21755 */display: inline-block !important;position: relative;}#sk-container-id-3 div.sk-text-repr-fallback {display: none;}</style><div id=\"sk-container-id-3\" class=\"sk-top-container\"><div class=\"sk-text-repr-fallback\"><pre>LogisticRegression()</pre><b>In a Jupyter environment, please rerun this cell to show the HTML representation or trust the notebook. <br />On GitHub, the HTML representation is unable to render, please try loading this page with nbviewer.org.</b></div><div class=\"sk-container\" hidden><div class=\"sk-item\"><div class=\"sk-estimator sk-toggleable\"><input class=\"sk-toggleable__control sk-hidden--visually\" id=\"sk-estimator-id-3\" type=\"checkbox\" checked><label for=\"sk-estimator-id-3\" class=\"sk-toggleable__label sk-toggleable__label-arrow\">LogisticRegression</label><div class=\"sk-toggleable__content\"><pre>LogisticRegression()</pre></div></div></div></div></div>"
      ],
      "text/plain": [
       "LogisticRegression()"
      ]
     },
     "execution_count": 53,
     "metadata": {},
     "output_type": "execute_result"
    }
   ],
   "source": [
    "model.fit(x_trn_features, y_trn)"
   ]
  },
  {
   "cell_type": "markdown",
   "id": "feb4244a",
   "metadata": {},
   "source": [
    "Evaluating the Model"
   ]
  },
  {
   "cell_type": "code",
   "execution_count": 54,
   "id": "a6ac7b1b",
   "metadata": {},
   "outputs": [],
   "source": [
    "#prediction on training data\n",
    "prediction = model.predict(x_test_features)"
   ]
  },
  {
   "cell_type": "code",
   "execution_count": 55,
   "id": "c59ca461",
   "metadata": {},
   "outputs": [],
   "source": [
    "from sklearn.metrics import accuracy_score"
   ]
  },
  {
   "cell_type": "code",
   "execution_count": 56,
   "id": "9ea8e529",
   "metadata": {},
   "outputs": [
    {
     "name": "stdout",
     "output_type": "stream",
     "text": [
      "Accuracy :  0.967741935483871\n"
     ]
    }
   ],
   "source": [
    "accuracy = accuracy_score(y_test, prediction)\n",
    "print('Accuracy : ',accuracy)"
   ]
  },
  {
   "cell_type": "raw",
   "id": "8f60528d",
   "metadata": {},
   "source": [
    "Prediction System"
   ]
  },
  {
   "cell_type": "code",
   "execution_count": 57,
   "id": "ad4351a9",
   "metadata": {},
   "outputs": [
    {
     "name": "stdout",
     "output_type": "stream",
     "text": [
      "Prediction:  [1]\n",
      "Spam Mail!\n"
     ]
    }
   ],
   "source": [
    "input_mail = [\"Sunshine Quiz Wkly Q! Win a top Sony DVD player if u know which country the Algarve is in? Txt ansr to 82277. £1.50 SP:Tyrone\"]\n",
    "\n",
    "#converting to feature vectors\n",
    "\n",
    "input_features = Ft_Extract.transform(input_mail)\n",
    "\n",
    "#making Prediction\n",
    "\n",
    "prediction = model.predict(input_features)\n",
    "print('Prediction: ', prediction)\n",
    "\n",
    "if prediction[0]==0:\n",
    "    print(\"Ham Mail!\")\n",
    "else:\n",
    "    print(\"Spam Mail!\")"
   ]
  },
  {
   "cell_type": "markdown",
   "id": "7cc808a4",
   "metadata": {},
   "source": [
    "Saving the Model"
   ]
  },
  {
   "cell_type": "code",
   "execution_count": 58,
   "id": "af9a2bf5",
   "metadata": {},
   "outputs": [],
   "source": [
    "import pickle"
   ]
  },
  {
   "cell_type": "code",
   "execution_count": 59,
   "id": "99acc5f9",
   "metadata": {},
   "outputs": [],
   "source": [
    "filename = 'Spam_Filtration.sav'\n",
    "pickle.dump(model, open(filename, 'wb'))\n",
    "pickle.dump(Ft_Extract, open('FtExtractor.sav', 'wb'))"
   ]
  },
  {
   "cell_type": "code",
   "execution_count": null,
   "id": "ee10faa9",
   "metadata": {},
   "outputs": [],
   "source": []
  }
 ],
 "metadata": {
  "kernelspec": {
   "display_name": "Python 3 (ipykernel)",
   "language": "python",
   "name": "python3"
  },
  "language_info": {
   "codemirror_mode": {
    "name": "ipython",
    "version": 3
   },
   "file_extension": ".py",
   "mimetype": "text/x-python",
   "name": "python",
   "nbconvert_exporter": "python",
   "pygments_lexer": "ipython3",
   "version": "3.10.7"
  }
 },
 "nbformat": 4,
 "nbformat_minor": 5
}
